{
 "cells": [
  {
   "cell_type": "markdown",
   "id": "950f291d-9fa5-4a4f-a926-5905b943c03b",
   "metadata": {},
   "source": [
    "# Практична робота №4\n",
    "## Варіант 2\n",
    "**Опис Компанії-Замовника:** Scott Polar Research Institute (SPRI) -  Британський інститут, що є частиною Кембриджського університету, який займається всесторонніми дослідженнями полярних регіонів.\\\n",
    "***---------------------------------------------***\\\n",
    "**Запит:** Організація потребує розробки алгоритму, здатного класифікувати різні види пінгвінів на основі зібраних даних, щоб поліпшити розуміння різноманіття та розподілу цих видів у регіоні.\\\n",
    "***---------------------------------------------***\\\n",
    "**Пропозиція Реалізації:** Створення моделі машинного навчання для класифікації видів пінгвінів. Модель повинна враховувати різні фізичні характеристики, такі як розміри тіла, маса та гендерні особливості, для точного визначення виду кожного пінгвіна. Ця класифікація допоможе визначити основні видові групи пінгвінів у регіоні та їх розподіл, сприяючи кращому збереженню цих видів та розумінню їхнього екологічного статусу.**"
   ]
  },
  {
   "cell_type": "markdown",
   "id": "17d5c3d4-ddef-4e8f-9dc4-193cb5940c62",
   "metadata": {},
   "source": [
    "## Завдання\n",
    "1) Виберіть декілька метрик для ваших моделей для оптимізації гіперпараметрів.\n",
    "2) Виберіть метод оптимізації гіперпараметрів, гіперпараметри та їх можливі значення. Опишіть основи такого рішення.\n",
    "3) Здійсніть оптимізацію гіперпараметрів моделі на основі обраних метрик та гіперпараметрів.\n",
    "4) Оберіть оптимальний результат.\n",
    "5) Поясніть результати пошуку гіперпараметрів моделі відповідно до ваших метрик.\n",
    "6) Застосуйте підходи роботи з незбалансованими класами якщо є така необхідність. Обгрунтуйте свій вибір.\n",
    "\n"
   ]
  },
  {
   "cell_type": "markdown",
   "id": "ca0cedc2-c367-4577-8f26-ac0bf0d9923b",
   "metadata": {},
   "source": [
    "## Підготовка роботи ##"
   ]
  },
  {
   "cell_type": "code",
   "execution_count": 1,
   "id": "14262a30-7d0b-4222-a148-948020453ba8",
   "metadata": {},
   "outputs": [],
   "source": [
    "from sklearn.model_selection import GridSearchCV\n",
    "from sklearn.linear_model import LogisticRegression\n",
    "from sklearn.metrics import make_scorer, accuracy_score, f1_score, roc_auc_score, classification_report\n",
    "from sklearn.model_selection import train_test_split\n",
    "import pandas as pd"
   ]
  },
  {
   "cell_type": "code",
   "execution_count": 2,
   "id": "12bd4ce2-10ae-4cc7-84f7-32a2811a6784",
   "metadata": {},
   "outputs": [],
   "source": [
    "ds = pd.read_csv(\"variant_2_updated.csv\")\n",
    "X = ds.drop(columns=['Species', 'Unnamed: 0', 'Sample Number', 'Individual ID', 'studyName', 'Comments'])\n",
    "y = ds['Species']"
   ]
  },
  {
   "cell_type": "markdown",
   "id": "e2abd61d-b9bf-4ca0-999a-d3602daa6be0",
   "metadata": {},
   "source": [
    "***Розділяємо дані на навчальну та тестову вибірки***"
   ]
  },
  {
   "cell_type": "code",
   "execution_count": 3,
   "id": "87063a56-0236-4335-9501-f74fec9f5a59",
   "metadata": {},
   "outputs": [],
   "source": [
    "X_train, X_test, y_train, y_test = train_test_split(X, y, test_size=0.2, random_state=42)"
   ]
  },
  {
   "cell_type": "markdown",
   "id": "926ed35f-28db-4fb3-8896-f58d49f3e4ef",
   "metadata": {},
   "source": [
    "***З попередньої практичної визначили, що використовуватимемо модель логістичної регресії***"
   ]
  },
  {
   "cell_type": "code",
   "execution_count": 4,
   "id": "a5bfa6be-64e3-474d-9337-818bd9d9a796",
   "metadata": {},
   "outputs": [],
   "source": [
    "model = LogisticRegression(solver='liblinear')"
   ]
  },
  {
   "cell_type": "markdown",
   "id": "170653f2-65a4-4215-a0b6-ac21e7a28178",
   "metadata": {},
   "source": [
    "***Для методу пошуку найкращих гіперпараметрів, обираю Grid Search та встановлюю йому початкові параметри***"
   ]
  },
  {
   "cell_type": "code",
   "execution_count": 5,
   "id": "bf9b4409-af88-46ca-84cf-a78de2295224",
   "metadata": {},
   "outputs": [
    {
     "name": "stderr",
     "output_type": "stream",
     "text": [
      "C:\\Users\\aziya\\AppData\\Local\\Programs\\Python\\Python312\\Lib\\site-packages\\sklearn\\metrics\\_scorer.py:610: FutureWarning: The `needs_threshold` and `needs_proba` parameter are deprecated in version 1.4 and will be removed in 1.6. You can either let `response_method` be `None` or set it to `predict` to preserve the same behaviour.\n",
      "  warnings.warn(\n"
     ]
    },
    {
     "name": "stdout",
     "output_type": "stream",
     "text": [
      "Найкращі параметри: {'C': 1, 'penalty': 'l1'}\n",
      "Точність: 0.989010989010989\n",
      "F1-міра: 0.989008611980708\n",
      "AUC-ROC: 0.9981080151358789\n"
     ]
    }
   ],
   "source": [
    "param_grid = {\n",
    "    'C': [0.01, 0.1, 1, 10, 100],\n",
    "    'penalty': ['l1', 'l2']\n",
    "}\n",
    "\n",
    "scoring = {\n",
    "    'accuracy': make_scorer(accuracy_score),\n",
    "    'f1': make_scorer(f1_score, average='weighted'),\n",
    "    'roc_auc': make_scorer(roc_auc_score, needs_proba=True, multi_class='ovr')\n",
    "}\n",
    "\n",
    "grid_search = GridSearchCV(estimator=model, param_grid=param_grid, scoring=scoring, refit='f1', cv=5)\n",
    "\n",
    "grid_search.fit(X_train, y_train)\n",
    "\n",
    "best_params = grid_search.best_params_\n",
    "print(\"Найкращі параметри:\", best_params)\n",
    "\n",
    "best_model = grid_search.best_estimator_\n",
    "y_pred = best_model.predict(X_test)\n",
    "\n",
    "accuracy = accuracy_score(y_test, y_pred)\n",
    "f1 = f1_score(y_test, y_pred, average='weighted')\n",
    "roc_auc = roc_auc_score(y_test, best_model.predict_proba(X_test), multi_class='ovr')\n",
    "\n",
    "print(\"Точність:\", accuracy)\n",
    "print(\"F1-міра:\", f1)\n",
    "print(\"AUC-ROC:\", roc_auc)"
   ]
  },
  {
   "cell_type": "markdown",
   "id": "8e21acb8-0e5f-42ab-8159-ab973ee8e848",
   "metadata": {},
   "source": [
    "***Результати демонструють, що модель не має значного перенавчання, але щоби впевнитись, проведемо крос-валідацію.***"
   ]
  },
  {
   "cell_type": "code",
   "execution_count": 6,
   "id": "786049fa-a796-4757-894a-9a91afd24b66",
   "metadata": {},
   "outputs": [
    {
     "name": "stdout",
     "output_type": "stream",
     "text": [
      "F1-міра на кожній ітерації крос-валідації: [1.         0.97799753 1.         0.9888858  1.        ]\n",
      "Середнє значення F1-міри: 0.9933766664891148\n",
      "Стандартне відхилення F1-міри: 0.008812392651665562\n"
     ]
    }
   ],
   "source": [
    "from sklearn.model_selection import cross_val_score\n",
    "import numpy as np\n",
    "model = LogisticRegression(C=1, penalty='l1', solver='liblinear')\n",
    "\n",
    "f1_scorer = make_scorer(f1_score, average='weighted')\n",
    "f1_scores = cross_val_score(model, X, y, cv=5, scoring=f1_scorer)\n",
    "\n",
    "print(\"F1-міра на кожній ітерації крос-валідації:\", f1_scores)\n",
    "print(\"Середнє значення F1-міри:\", np.mean(f1_scores))\n",
    "print(\"Стандартне відхилення F1-міри:\", np.std(f1_scores))"
   ]
  },
  {
   "cell_type": "markdown",
   "id": "7a4fb8ab-b584-4644-95eb-fa398116f28c",
   "metadata": {},
   "source": [
    "***Результати крос-валідації та тестування виглядають дуже добре і показують, що модель має дуже високу продуктивність. Тому можна вважатти, що параметри C=1 і penalty='l1' виявилися оптимальними, і їх можна залишити без змін***"
   ]
  },
  {
   "cell_type": "markdown",
   "id": "b32bdbc2-afc8-487d-8ba0-a9a3bbac6fca",
   "metadata": {},
   "source": [
    "***Перевіримо чи класи збалансовані***"
   ]
  },
  {
   "cell_type": "code",
   "execution_count": 7,
   "id": "86fa1941-4c36-43b1-a2c0-8f5da4e202c3",
   "metadata": {},
   "outputs": [
    {
     "name": "stdout",
     "output_type": "stream",
     "text": [
      "Species\n",
      "1    151\n",
      "2    151\n",
      "0    150\n",
      "Name: count, dtype: int64\n"
     ]
    }
   ],
   "source": [
    "print(y.value_counts())"
   ]
  },
  {
   "cell_type": "markdown",
   "id": "2b243e02-f1ac-4b61-a0e1-73ac978cec37",
   "metadata": {},
   "source": [
    "***Оскільки значення приблизно однакові, можна вважати, що класи збалансовані***"
   ]
  },
  {
   "cell_type": "markdown",
   "id": "5e536948-95d9-47fd-b451-b081f244b1db",
   "metadata": {},
   "source": [
    "### Висновок"
   ]
  },
  {
   "cell_type": "markdown",
   "id": "8fd6e020-020e-48b4-8f5f-6a74b8da1022",
   "metadata": {},
   "source": [
    "***Виконавши практичну роботу, я навчився оптимізовувати модель машинного навчання шляхом пошуку гіперпараметрів для покращення точності моделі.***"
   ]
  }
 ],
 "metadata": {
  "kernelspec": {
   "display_name": "Python 3 (ipykernel)",
   "language": "python",
   "name": "python3"
  },
  "language_info": {
   "codemirror_mode": {
    "name": "ipython",
    "version": 3
   },
   "file_extension": ".py",
   "mimetype": "text/x-python",
   "name": "python",
   "nbconvert_exporter": "python",
   "pygments_lexer": "ipython3",
   "version": "3.12.1"
  }
 },
 "nbformat": 4,
 "nbformat_minor": 5
}
