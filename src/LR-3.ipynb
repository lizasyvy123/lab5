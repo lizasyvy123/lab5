{
 "cells": [
  {
   "cell_type": "markdown",
   "id": "d8ae1ca6-4d81-4730-beb4-b071643d0e45",
   "metadata": {},
   "source": [
    "# Практична робота №3\n",
    "## Варіант 2\n",
    "**Опис Компанії-Замовника:** Scott Polar Research Institute (SPRI) -  Британський інститут, що є частиною Кембриджського університету, який займається всесторонніми дослідженнями полярних регіонів.\\\n",
    "***---------------------------------------------***\\\n",
    "**Запит:** Організація потребує розробки алгоритму, здатного класифікувати різні види пінгвінів на основі зібраних даних, щоб поліпшити розуміння різноманіття та розподілу цих видів у регіоні.\\\n",
    "***---------------------------------------------***\\\n",
    "**Пропозиція Реалізації:** Створення моделі машинного навчання для класифікації видів пінгвінів. Модель повинна враховувати різні фізичні характеристики, такі як розміри тіла, маса та гендерні особливості, для точного визначення виду кожного пінгвіна. Ця класифікація допоможе визначити основні видові групи пінгвінів у регіоні та їх розподіл, сприяючи кращому збереженню цих видів та розумінню їхнього екологічного статусу.**"
   ]
  },
  {
   "cell_type": "markdown",
   "id": "303476e3-4183-4314-977b-432d2e48df51",
   "metadata": {},
   "source": [
    "## Завдання\n",
    "1) Виберіть техніку моделювання для вирішення проблеми вашого підприємства.\n",
    "2) Складіть звіт моделювання та опишіть припущення для обраних моделей.\n",
    "3) Виберіть декілька метрик для ваших моделей з  попередньої практичної та обґрунтуйте свій вибір.\n",
    "4) Виберіть метод поділу даних на навчальні та тестові. Опишіть основи такого рішення.\n",
    "5) Здійсніть тренування обраних моделей на даних вашого підприємства.\n",
    "6) Здійсніть валідацію моделей на основі обраних метрик та поділу даних.\n",
    "7) Оберіть найкращу модель.\n"
   ]
  },
  {
   "cell_type": "markdown",
   "id": "21c35809-1c82-4152-93ba-7e6f9764ee9e",
   "metadata": {},
   "source": [
    "## Підготовка роботи ##"
   ]
  },
  {
   "cell_type": "code",
   "execution_count": 1,
   "id": "05b89b1e-fc80-4502-b73f-430d0cdd4fe3",
   "metadata": {},
   "outputs": [],
   "source": [
    "import os.path\n",
    "import pandas as pd\n",
    "import numpy as np\n",
    "import matplotlib.pyplot as plt\n",
    "import seaborn as sns\n",
    "import warnings\n",
    "import scipy.stats as stats\n",
    "from sklearn import metrics\n",
    "import lightgbm\n",
    "warnings.simplefilter('ignore')\n",
    "from sklearn.model_selection import train_test_split\n",
    "\n",
    "from sklearn.linear_model import LinearRegression\n",
    "from sklearn.linear_model import LogisticRegression\n",
    "from sklearn.neighbors import KNeighborsClassifier\n",
    "from sklearn.svm import SVC\n",
    "from sklearn.linear_model import SGDClassifier\n",
    "from sklearn.tree import DecisionTreeClassifier\n",
    "from sklearn.ensemble import RandomForestClassifier\n",
    "from sklearn.ensemble import ExtraTreesClassifier\n",
    "from sklearn.ensemble import AdaBoostClassifier\n",
    "from sklearn.ensemble import GradientBoostingClassifier\n",
    "from xgboost import XGBClassifier\n",
    "from catboost import CatBoostClassifier\n",
    "from lightgbm import LGBMClassifier\n",
    "from sklearn.naive_bayes import GaussianNB\n",
    "from sklearn.neural_network import MLPClassifier\n"
   ]
  },
  {
   "cell_type": "code",
   "execution_count": 2,
   "id": "35fe37c8-6233-488f-9c7b-dd1c4d388b37",
   "metadata": {},
   "outputs": [],
   "source": [
    "ds = pd.read_csv(\"variant_2_updated.csv\")\n",
    "ds_original = pd.read_csv(\"variant_2.csv\")"
   ]
  },
  {
   "cell_type": "markdown",
   "id": "d53ee6d9-981e-4f21-abc2-5bb161b281b2",
   "metadata": {},
   "source": [
    "***Перевіримо чи не пошкоджений файл***"
   ]
  },
  {
   "cell_type": "code",
   "execution_count": 3,
   "id": "6df29f44-d876-49bc-8ca1-2c6c50a79763",
   "metadata": {},
   "outputs": [
    {
     "data": {
      "text/plain": [
       "Species\n",
       "1    151\n",
       "2    151\n",
       "0    150\n",
       "Name: count, dtype: int64"
      ]
     },
     "execution_count": 3,
     "metadata": {},
     "output_type": "execute_result"
    }
   ],
   "source": [
    "ds['Species'].value_counts()"
   ]
  },
  {
   "cell_type": "code",
   "execution_count": 4,
   "id": "717546d4-d780-4b5f-959e-3a4e4d18b0a4",
   "metadata": {},
   "outputs": [
    {
     "data": {
      "text/plain": [
       "Species\n",
       "Adelie Penguin (Pygoscelis adeliae)          152\n",
       "Chinstrap penguin (Pygoscelis antarctica)    152\n",
       "Gentoo penguin (Pygoscelis papua)            152\n",
       "Name: count, dtype: int64"
      ]
     },
     "execution_count": 4,
     "metadata": {},
     "output_type": "execute_result"
    }
   ],
   "source": [
    "ds_original['Species'].value_counts()"
   ]
  },
  {
   "cell_type": "code",
   "execution_count": 5,
   "id": "d385fbd4-8934-4d5b-b048-495f951a8bd3",
   "metadata": {},
   "outputs": [
    {
     "data": {
      "text/html": [
       "<div>\n",
       "<style scoped>\n",
       "    .dataframe tbody tr th:only-of-type {\n",
       "        vertical-align: middle;\n",
       "    }\n",
       "\n",
       "    .dataframe tbody tr th {\n",
       "        vertical-align: top;\n",
       "    }\n",
       "\n",
       "    .dataframe thead th {\n",
       "        text-align: right;\n",
       "    }\n",
       "</style>\n",
       "<table border=\"1\" class=\"dataframe\">\n",
       "  <thead>\n",
       "    <tr style=\"text-align: right;\">\n",
       "      <th></th>\n",
       "      <th>Unnamed: 0</th>\n",
       "      <th>studyName</th>\n",
       "      <th>Sample Number</th>\n",
       "      <th>Region</th>\n",
       "      <th>Island</th>\n",
       "      <th>Stage</th>\n",
       "      <th>Individual ID</th>\n",
       "      <th>Clutch Completion</th>\n",
       "      <th>Date Egg</th>\n",
       "      <th>Culmen Length (mm)</th>\n",
       "      <th>Culmen Depth (mm)</th>\n",
       "      <th>Flipper Length (mm)</th>\n",
       "      <th>Body Mass (g)</th>\n",
       "      <th>Sex</th>\n",
       "      <th>Delta 15 N (o/oo)</th>\n",
       "      <th>Delta 13 C (o/oo)</th>\n",
       "      <th>Comments</th>\n",
       "      <th>Species</th>\n",
       "    </tr>\n",
       "  </thead>\n",
       "  <tbody>\n",
       "    <tr>\n",
       "      <th>0</th>\n",
       "      <td>0</td>\n",
       "      <td>708</td>\n",
       "      <td>0</td>\n",
       "      <td>0</td>\n",
       "      <td>0.0</td>\n",
       "      <td>1</td>\n",
       "      <td>3</td>\n",
       "      <td>1</td>\n",
       "      <td>111107</td>\n",
       "      <td>0.254545</td>\n",
       "      <td>0.666667</td>\n",
       "      <td>0.152542</td>\n",
       "      <td>0.291667</td>\n",
       "      <td>0</td>\n",
       "      <td>0.000000</td>\n",
       "      <td>0.000000</td>\n",
       "      <td>0.333333</td>\n",
       "      <td>0</td>\n",
       "    </tr>\n",
       "    <tr>\n",
       "      <th>1</th>\n",
       "      <td>1</td>\n",
       "      <td>708</td>\n",
       "      <td>1</td>\n",
       "      <td>0</td>\n",
       "      <td>0.0</td>\n",
       "      <td>1</td>\n",
       "      <td>2</td>\n",
       "      <td>1</td>\n",
       "      <td>111107</td>\n",
       "      <td>0.269091</td>\n",
       "      <td>0.511905</td>\n",
       "      <td>0.237288</td>\n",
       "      <td>0.305556</td>\n",
       "      <td>1</td>\n",
       "      <td>0.261814</td>\n",
       "      <td>0.719311</td>\n",
       "      <td>0.456140</td>\n",
       "      <td>0</td>\n",
       "    </tr>\n",
       "    <tr>\n",
       "      <th>2</th>\n",
       "      <td>2</td>\n",
       "      <td>708</td>\n",
       "      <td>2</td>\n",
       "      <td>0</td>\n",
       "      <td>1.0</td>\n",
       "      <td>1</td>\n",
       "      <td>2</td>\n",
       "      <td>1</td>\n",
       "      <td>111607</td>\n",
       "      <td>0.298182</td>\n",
       "      <td>0.583333</td>\n",
       "      <td>0.389831</td>\n",
       "      <td>0.152778</td>\n",
       "      <td>1</td>\n",
       "      <td>0.146275</td>\n",
       "      <td>0.521692</td>\n",
       "      <td>0.456140</td>\n",
       "      <td>0</td>\n",
       "    </tr>\n",
       "    <tr>\n",
       "      <th>3</th>\n",
       "      <td>3</td>\n",
       "      <td>708</td>\n",
       "      <td>3</td>\n",
       "      <td>0</td>\n",
       "      <td>1.0</td>\n",
       "      <td>1</td>\n",
       "      <td>4</td>\n",
       "      <td>1</td>\n",
       "      <td>111607</td>\n",
       "      <td>0.327273</td>\n",
       "      <td>0.464286</td>\n",
       "      <td>0.305085</td>\n",
       "      <td>0.305556</td>\n",
       "      <td>0</td>\n",
       "      <td>0.000000</td>\n",
       "      <td>0.000000</td>\n",
       "      <td>0.000000</td>\n",
       "      <td>0</td>\n",
       "    </tr>\n",
       "    <tr>\n",
       "      <th>4</th>\n",
       "      <td>4</td>\n",
       "      <td>708</td>\n",
       "      <td>4</td>\n",
       "      <td>0</td>\n",
       "      <td>0.0</td>\n",
       "      <td>1</td>\n",
       "      <td>1</td>\n",
       "      <td>1</td>\n",
       "      <td>111607</td>\n",
       "      <td>0.167273</td>\n",
       "      <td>0.738095</td>\n",
       "      <td>0.355932</td>\n",
       "      <td>0.208333</td>\n",
       "      <td>1</td>\n",
       "      <td>0.225434</td>\n",
       "      <td>0.524404</td>\n",
       "      <td>0.456140</td>\n",
       "      <td>0</td>\n",
       "    </tr>\n",
       "  </tbody>\n",
       "</table>\n",
       "</div>"
      ],
      "text/plain": [
       "   Unnamed: 0  studyName  Sample Number  Region  Island  Stage  Individual ID  \\\n",
       "0           0        708              0       0     0.0      1              3   \n",
       "1           1        708              1       0     0.0      1              2   \n",
       "2           2        708              2       0     1.0      1              2   \n",
       "3           3        708              3       0     1.0      1              4   \n",
       "4           4        708              4       0     0.0      1              1   \n",
       "\n",
       "   Clutch Completion  Date Egg  Culmen Length (mm)  Culmen Depth (mm)  \\\n",
       "0                  1    111107            0.254545           0.666667   \n",
       "1                  1    111107            0.269091           0.511905   \n",
       "2                  1    111607            0.298182           0.583333   \n",
       "3                  1    111607            0.327273           0.464286   \n",
       "4                  1    111607            0.167273           0.738095   \n",
       "\n",
       "   Flipper Length (mm)  Body Mass (g)  Sex  Delta 15 N (o/oo)  \\\n",
       "0             0.152542       0.291667    0           0.000000   \n",
       "1             0.237288       0.305556    1           0.261814   \n",
       "2             0.389831       0.152778    1           0.146275   \n",
       "3             0.305085       0.305556    0           0.000000   \n",
       "4             0.355932       0.208333    1           0.225434   \n",
       "\n",
       "   Delta 13 C (o/oo)  Comments  Species  \n",
       "0           0.000000  0.333333        0  \n",
       "1           0.719311  0.456140        0  \n",
       "2           0.521692  0.456140        0  \n",
       "3           0.000000  0.000000        0  \n",
       "4           0.524404  0.456140        0  "
      ]
     },
     "execution_count": 5,
     "metadata": {},
     "output_type": "execute_result"
    }
   ],
   "source": [
    "ds.head(5)"
   ]
  },
  {
   "cell_type": "markdown",
   "id": "3ed2be0d-a29b-4191-ae12-806f76fe41d1",
   "metadata": {},
   "source": [
    "### Здійснюємо поділ даних на тестові, навчальні та дані для валідації. А також обираємо декілька методик для моделювання і порівнюємо їх між собою\n",
    "*** Для оцінки моделей обрано точність, Precision, Recall і F1-міру, оскільки вони враховують як загальну ефективність, так і збалансованість між правильними позитивними і негативними прогнозами.***"
   ]
  },
  {
   "cell_type": "code",
   "execution_count": 6,
   "id": "25522140-082c-49ab-a689-5321ccc4e677",
   "metadata": {},
   "outputs": [],
   "source": [
    "X = ds.drop(columns=['Species', 'Unnamed: 0', 'Sample Number', 'Individual ID', 'studyName', 'Comments'])\n",
    "y = ds['Species']\n",
    "\n",
    "from sklearn.model_selection import train_test_split\n",
    "\n",
    "X_train, X_rem, y_train, y_rem = train_test_split(X, y, train_size=0.8, random_state=0)\n",
    "X_valid, X_test, y_valid, y_test = train_test_split(X_rem, y_rem, test_size=0.5, random_state=0)\n",
    "\n",
    "models = {\n",
    "    \"Logistic Regression\": LogisticRegression(max_iter = 120),\n",
    "    \"Decision Tree\": DecisionTreeClassifier(),\n",
    "    \"Random Forest\": RandomForestClassifier(),\n",
    "    \"Support Vector Machine\": SVC(),\n",
    "    \"Gradient Boosting\": GradientBoostingClassifier()\n",
    "}\n",
    "\n",
    "from sklearn.metrics import accuracy_score, precision_score, recall_score, f1_score\n",
    "\n",
    "def train_and_evaluate(models, X_train, y_train, X_valid, y_valid, X_test, y_test):\n",
    "    results = {}\n",
    "\n",
    "    for name, model in models.items():\n",
    "        model.fit(X_train, y_train)\n",
    "        y_pred_train = model.predict(X_train)\n",
    "        y_pred_valid = model.predict(X_valid)\n",
    "        y_pred_test = model.predict(X_test)\n",
    "\n",
    "        train_accuracy = accuracy_score(y_train, y_pred_train)\n",
    "        valid_accuracy = accuracy_score(y_valid, y_pred_valid)\n",
    "        test_accuracy = accuracy_score(y_test, y_pred_test)\n",
    "\n",
    "        train_precision = precision_score(y_train, y_pred_train, average='weighted')\n",
    "        valid_precision = precision_score(y_valid, y_pred_valid, average='weighted')\n",
    "        test_precision = precision_score(y_test, y_pred_test, average='weighted')\n",
    "\n",
    "        train_recall = recall_score(y_train, y_pred_train, average='weighted')\n",
    "        valid_recall = recall_score(y_valid, y_pred_valid, average='weighted')\n",
    "        test_recall = recall_score(y_test, y_pred_test, average='weighted')\n",
    "\n",
    "        train_f1 = f1_score(y_train, y_pred_train, average='weighted')\n",
    "        valid_f1 = f1_score(y_valid, y_pred_valid, average='weighted')\n",
    "        test_f1 = f1_score(y_test, y_pred_test, average='weighted')\n",
    "\n",
    "        results[name] = {\n",
    "            \"Train Accuracy\": train_accuracy,\n",
    "            \"Valid Accuracy\": valid_accuracy,\n",
    "            \"Test Accuracy\": test_accuracy,\n",
    "            \"Train Precision\": train_precision,\n",
    "            \"Valid Precision\": valid_precision,\n",
    "            \"Test Precision\": test_precision,\n",
    "            \"Train Recall\": train_recall,\n",
    "            \"Valid Recall\": valid_recall,\n",
    "            \"Test Recall\": test_recall,\n",
    "            \"Train F1\": train_f1,\n",
    "            \"Valid F1\": valid_f1,\n",
    "            \"Test F1\": test_f1\n",
    "        }\n",
    "\n",
    "    return results\n"
   ]
  },
  {
   "cell_type": "code",
   "execution_count": 7,
   "id": "55492976-ccaf-46b7-97e8-63e1bcc4a3e6",
   "metadata": {},
   "outputs": [
    {
     "name": "stdout",
     "output_type": "stream",
     "text": [
      "                        Train Accuracy  Valid Accuracy  Test Accuracy  \\\n",
      "Модель                                                                  \n",
      "Logistic Regression           0.977839        1.000000       1.000000   \n",
      "Decision Tree                 1.000000        1.000000       1.000000   \n",
      "Random Forest                 1.000000        1.000000       1.000000   \n",
      "Support Vector Machine        0.481994        0.488889       0.456522   \n",
      "Gradient Boosting             1.000000        1.000000       1.000000   \n",
      "\n",
      "                        Train Precision  Valid Precision  Test Precision  \\\n",
      "Модель                                                                     \n",
      "Logistic Regression            0.978817         1.000000        1.000000   \n",
      "Decision Tree                  1.000000         1.000000        1.000000   \n",
      "Random Forest                  1.000000         1.000000        1.000000   \n",
      "Support Vector Machine         0.366129         0.339506        0.305492   \n",
      "Gradient Boosting              1.000000         1.000000        1.000000   \n",
      "\n",
      "                        Train Recall  Valid Recall  Test Recall  Train F1  \\\n",
      "Модель                                                                      \n",
      "Logistic Regression         0.977839      1.000000     1.000000  0.977841   \n",
      "Decision Tree               1.000000      1.000000     1.000000  1.000000   \n",
      "Random Forest               1.000000      1.000000     1.000000  1.000000   \n",
      "Support Vector Machine      0.481994      0.488889     0.456522  0.382084   \n",
      "Gradient Boosting           1.000000      1.000000     1.000000  1.000000   \n",
      "\n",
      "                        Valid F1   Test F1  \n",
      "Модель                                      \n",
      "Logistic Regression     1.000000  1.000000  \n",
      "Decision Tree           1.000000  1.000000  \n",
      "Random Forest           1.000000  1.000000  \n",
      "Support Vector Machine  0.381414  0.341925  \n",
      "Gradient Boosting       1.000000  1.000000  \n"
     ]
    }
   ],
   "source": [
    "results = train_and_evaluate(models, X_train, y_train, X_valid, y_valid, X_test, y_test)\n",
    "\n",
    "results_df = pd.DataFrame(results).T\n",
    "results_df.index.name = \"Модель\"\n",
    "print(results_df)\n"
   ]
  },
  {
   "cell_type": "markdown",
   "id": "8f10aff1-d471-45da-bbf8-be89b2e28640",
   "metadata": {},
   "source": [
    "***Проаналізувавши результати, оберемо модель Logistic Regression як найкращий варіант, оскільки вона не перенавчена і забезпечує стабільні результати***"
   ]
  },
  {
   "cell_type": "markdown",
   "id": "1643a7ac-ffab-4e47-b673-ac02891e1ca1",
   "metadata": {},
   "source": [
    "### Важливість ознак у моделюванні Logistic Regression"
   ]
  },
  {
   "cell_type": "code",
   "execution_count": 8,
   "id": "9c9f160f-6b08-45a8-a044-7c274b1d54f3",
   "metadata": {},
   "outputs": [
    {
     "name": "stdout",
     "output_type": "stream",
     "text": [
      "                Feature  Importance\n",
      "5    Culmen Length (mm)    2.909230\n",
      "6     Culmen Depth (mm)    2.226637\n",
      "7   Flipper Length (mm)    1.891804\n",
      "11    Delta 13 C (o/oo)    1.394212\n",
      "2                 Stage    1.305594\n",
      "1                Island    1.169668\n",
      "8         Body Mass (g)    1.042343\n",
      "3     Clutch Completion    0.691673\n",
      "9                   Sex    0.293649\n",
      "10    Delta 15 N (o/oo)    0.224681\n",
      "4              Date Egg    0.000003\n",
      "0                Region    0.000000\n"
     ]
    },
    {
     "data": {
      "image/png": "[encoded data removed]",
      "text/plain": [
       "<Figure size 1000x600 with 1 Axes>"
      ]
     },
     "metadata": {},
     "output_type": "display_data"
    }
   ],
   "source": [
    "logreg_model = models[\"Logistic Regression\"]\n",
    "logreg_model.fit(X_train, y_train)\n",
    "\n",
    "\n",
    "feature_importance = pd.DataFrame({\n",
    "    'Feature': X.columns,\n",
    "    'Importance': np.abs(logreg_model.coef_[0])\n",
    "})\n",
    "\n",
    "\n",
    "feature_importance = feature_importance.sort_values(by='Importance', ascending=False)\n",
    "print(feature_importance)\n",
    "\n",
    "plt.figure(figsize=(10, 6))\n",
    "sns.barplot(data=feature_importance, x='Importance', y='Feature', palette='viridis')\n",
    "plt.title('Важливість ознак для моделі Logistic Regression')\n",
    "plt.show()"
   ]
  },
  {
   "cell_type": "markdown",
   "id": "46a2d243-c896-4fcf-bb90-de96b1f69755",
   "metadata": {},
   "source": [
    "### Висновок: \n",
    "***Виконавши практичну роботу, я навчився підбирати модель машинного навчання в залежності від задачі, що стоїть переді мною, на основі метрик, що різними способами вимірюють точність нашої моделі.***"
   ]
  }
 ],
 "metadata": {
  "kernelspec": {
   "display_name": "Python 3 (ipykernel)",
   "language": "python",
   "name": "python3"
  },
  "language_info": {
   "codemirror_mode": {
    "name": "ipython",
    "version": 3
   },
   "file_extension": ".py",
   "mimetype": "text/x-python",
   "name": "python",
   "nbconvert_exporter": "python",
   "pygments_lexer": "ipython3",
   "version": "3.12.1"
  }
 },
 "nbformat": 4,
 "nbformat_minor": 5
}
